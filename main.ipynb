{
 "cells": [
  {
   "cell_type": "code",
   "execution_count": null,
   "metadata": {},
   "outputs": [
    {
     "ename": "",
     "evalue": "",
     "output_type": "error",
     "traceback": [
      "\u001b[1;31mFailed to start the Kernel. \n",
      "\u001b[1;31mView Jupyter <a href='command:jupyter.viewOutput'>log</a> for further details."
     ]
    }
   ],
   "source": [
    "from plaid.api import plaid_api\n",
    "from plaid.model.sandbox_public_token_create_request import SandboxPublicTokenCreateRequest\n",
    "from plaid.model.products import Products\n",
    "from plaid.model.country_code import CountryCode\n",
    "\n",
    "# Create a sandbox public token\n",
    "def create_sandbox_token():\n",
    "    request = SandboxPublicTokenCreateRequest(\n",
    "        institution_id=\"ins_109508\",  # Fake bank institution\n",
    "        initial_products=[Products(\"transactions\")],\n",
    "        options={},\n",
    "        country_codes=[CountryCode(\"US\")]\n",
    "    )\n",
    "    response = client.sandbox_public_token_create(request)\n",
    "    return response[\"public_token\"]\n",
    "\n",
    "# Get a sandbox token\n",
    "public_token = create_sandbox_token()\n",
    "print(\"Sandbox Public Token:\", public_token)"
   ]
  },
  {
   "cell_type": "code",
   "execution_count": null,
   "metadata": {},
   "outputs": [],
   "source": [
    "from plaid.model.item_public_token_exchange_request import ItemPublicTokenExchangeRequest\n",
    "\n",
    "# Exchange public token for access token\n",
    "def exchange_sandbox_token(public_token):\n",
    "    request = ItemPublicTokenExchangeRequest(public_token=public_token)\n",
    "    response = client.item_public_token_exchange(request)\n",
    "    return response[\"access_token\"]\n",
    "\n",
    "access_token = exchange_sandbox_token(public_token)\n",
    "print(\"Sandbox Access Token:\", access_token)"
   ]
  }
 ],
 "metadata": {
  "kernelspec": {
   "display_name": "\"Python/Mu (mu_venv-38-20230510-140420)\"",
   "language": "python",
   "name": "mu_venv-38-20230510-140420"
  }
 },
 "nbformat": 4,
 "nbformat_minor": 2
}
